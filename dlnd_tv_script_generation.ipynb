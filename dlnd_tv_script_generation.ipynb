{
 "cells": [
  {
   "cell_type": "markdown",
   "metadata": {},
   "source": [
    "# TV Script Generation Using Recurrent Neural Networks\n",
    "---\n",
    "<img src=\"assets/books.jpg\">\n",
    "\n",
    "In this project, we will generate our own [Seinfeld](https://en.wikipedia.org/wiki/Seinfeld) TV scripts using recurrent neural networks (RNNs).  We will use a part of the [Seinfeld dataset](https://www.kaggle.com/thec03u5/seinfeld-chronicles#scripts.csv) of scripts from 9 seasons.  The RNN model will generate a new ,\"fake\" TV script, based on patterns it recognizes in this training data.\n",
    "\n",
    "## 1.0. Load in the Data\n",
    "\n",
    "First, we define `load_data` function to load in the data. "
   ]
  },
  {
   "cell_type": "code",
   "execution_count": 1,
   "metadata": {
    "collapsed": true
   },
   "outputs": [],
   "source": [
    "import os\n",
    "\n",
    "def load_data(path):\n",
    "    \"\"\"\n",
    "    Load Dataset from File\n",
    "    \"\"\"\n",
    "    input_file = os.path.join(path)\n",
    "    with open(input_file, \"r\") as f:\n",
    "        data = f.read()\n",
    "\n",
    "    return data"
   ]
  },
  {
   "cell_type": "markdown",
   "metadata": {},
   "source": [
    "In the code cell below, we will load the data from `./data/Seinfeld_Scripts.txt`."
   ]
  },
  {
   "cell_type": "code",
   "execution_count": 2,
   "metadata": {
    "collapsed": true
   },
   "outputs": [],
   "source": [
    "# load in data\n",
    "data_dir = './data/Seinfeld_Scripts.txt'\n",
    "text = load_data(data_dir)"
   ]
  },
  {
   "cell_type": "markdown",
   "metadata": {},
   "source": [
    "### Explore the Data"
   ]
  },
  {
   "cell_type": "code",
   "execution_count": 3,
   "metadata": {},
   "outputs": [
    {
     "name": "stdout",
     "output_type": "stream",
     "text": [
      "Dataset Stats\n",
      "Roughly the number of unique words: 46367\n",
      "Number of lines: 109233\n",
      "Average number of words in each line: 5.544240293684143\n",
      "\n",
      "The lines 0 to 10:\n",
      "jerry: do you know what this is all about? do you know, why were here? to be out, this is out...and out is one of the single most enjoyable experiences of life. people...did you ever hear people talking about we should go out? this is what theyre talking about...this whole thing, were all out now, no one is home. not one person here is home, were all out! there are people trying to find us, they dont know where we are. (on an imaginary phone) did you ring?, i cant find him. where did he go? he didnt tell me where he was going. he must have gone out. you wanna go out you get ready, you pick out the clothes, right? you take the shower, you get all ready, get the cash, get your friends, the car, the spot, the reservation...then youre standing around, what do you do? you go we gotta be getting back. once youre out, you wanna get back! you wanna go to sleep, you wanna get up, you wanna go out again tomorrow, right? where ever you are in life, its my feeling, youve gotta go. \n",
      "\n",
      "jerry: (pointing at georges shirt) see, to me, that button is in the worst possible spot. the second button literally makes or breaks the shirt, look at it. its too high! its in no-mans-land. you look like you live with your mother. \n",
      "\n",
      "george: are you through? \n",
      "\n",
      "jerry: you do of course try on, when you buy? \n",
      "\n",
      "george: yes, it was purple, i liked it, i dont actually recall considering the buttons. \n",
      "\n"
     ]
    }
   ],
   "source": [
    "view_line_range = (0, 10)\n",
    "\n",
    "import numpy as np\n",
    "\n",
    "print('Dataset Stats')\n",
    "print('Roughly the number of unique words: {}'.format(len({word: None for word in text.split()})))\n",
    "\n",
    "lines = text.split('\\n')\n",
    "print('Number of lines: {}'.format(len(lines)))\n",
    "word_count_line = [len(line.split()) for line in lines]\n",
    "print('Average number of words in each line: {}'.format(np.average(word_count_line)))\n",
    "\n",
    "print()\n",
    "print('The lines {} to {}:'.format(*view_line_range))\n",
    "print('\\n'.join(text.split('\\n')[view_line_range[0]:view_line_range[1]]))"
   ]
  },
  {
   "cell_type": "markdown",
   "metadata": {},
   "source": [
    "---\n",
    "## 2.0. Pre-processing Data\n",
    "The first thing to do to any dataset is pre-processing.  We will implement the following pre-processing functions:\n",
    "- Lookup Table\n",
    "- Tokenize Punctuation\n",
    "\n",
    "### 2.1. Lookup Table\n",
    "To create a word embedding, we first need to transform the words to ids.  In this function, we create two dictionaries:\n",
    "- Dictionary to go from the words to an id, we'll call `vocab_to_int`\n",
    "- Dictionary to go from the id to word, we'll call `int_to_vocab`\n",
    "\n",
    "We return these dictionaries in the **tuple** `(vocab_to_int, int_to_vocab)`"
   ]
  },
  {
   "cell_type": "code",
   "execution_count": 4,
   "metadata": {
    "collapsed": true
   },
   "outputs": [],
   "source": [
    "from collections import Counter\n",
    "\n",
    "def create_lookup_tables(text):\n",
    "    \"\"\"\n",
    "    Create lookup tables for vocabulary\n",
    "    :param text: The text of tv scripts split into words\n",
    "    :return: A tuple of dicts (vocab_to_int, int_to_vocab)\n",
    "    \"\"\"\n",
    "\n",
    "    # Count the number of each word in the text\n",
    "    word_counts = Counter(text)\n",
    "    # sorting the words from most to least frequent in text occurrence\n",
    "    sorted_vocab = sorted(word_counts, key=word_counts.get, reverse=True)\n",
    "    # create vocab_to_int dictionary\n",
    "    int_to_vocab = {ii: word for ii, word in enumerate(sorted_vocab)}\n",
    "    vocab_to_int = {word: ii for ii, word in int_to_vocab.items()}\n",
    "    \n",
    "    # return tuple\n",
    "    return (vocab_to_int, int_to_vocab)"
   ]
  },
  {
   "cell_type": "markdown",
   "metadata": {},
   "source": [
    "### 2.2. Tokenize Punctuation\n",
    "We will be splitting the script into a word array using spaces as delimiters.  However, punctuations like periods and exclamation marks can create multiple ids for the same word. For example, \"bye\" and \"bye!\" would generate two different word ids.\n",
    "\n",
    "Thus, we will implement the function `token_lookup` to return a dict that will be used to tokenize symbols like \"!\" into \"||Exclamation_Mark||\". We will create a dictionary for the following symbols where the symbol is the key and value is the token:\n",
    "- Period ( **.** )\n",
    "- Comma ( **,** )\n",
    "- Quotation Mark ( **\"** )\n",
    "- Semicolon ( **;** )\n",
    "- Exclamation mark ( **!** )\n",
    "- Question mark ( **?** )\n",
    "- Left Parentheses ( **(** )\n",
    "- Right Parentheses ( **)** )\n",
    "- Dash ( **-** )\n",
    "- Return ( **\\n** )\n",
    "\n",
    "This dictionary will be used to tokenize the symbols and add the delimiter (space) around it.  This separates each symbols as its own word, making it easier for the neural network to predict the next word. "
   ]
  },
  {
   "cell_type": "code",
   "execution_count": 5,
   "metadata": {
    "collapsed": true
   },
   "outputs": [],
   "source": [
    "from string import punctuation\n",
    "\n",
    "def token_lookup():\n",
    "    \"\"\"\n",
    "    Generate a dict to turn punctuation into a token.\n",
    "    :return: Tokenized dictionary where the key is the punctuation and the value is the token\n",
    "    \"\"\"\n",
    "    token = {'.': '||Period||', \n",
    "             ',': '||Comma||', \n",
    "             '\"': '||Quotation_Mark||', \n",
    "             ';': '||Semicolon||',\n",
    "             '!': '||Exclamation_Mark||',\n",
    "             '?': '||Question_Mark||', \n",
    "             '(': '||Left_Parentheses||', \n",
    "             ')': '||Right_Parentheses||',\n",
    "             '-': '||Dash||', \n",
    "             '\\n':'||Return||'}    \n",
    "    \n",
    "    return token"
   ]
  },
  {
   "cell_type": "markdown",
   "metadata": {},
   "source": [
    "### 2.3. Putting It All Together\n",
    "We define `preprocess_and_save_data` function, which combine `create_lookup_tables` and `token_lookup` function, to pre-process and save the data."
   ]
  },
  {
   "cell_type": "code",
   "execution_count": 6,
   "metadata": {
    "collapsed": true
   },
   "outputs": [],
   "source": [
    "import pickle\n",
    "\n",
    "def preprocess_and_save_data(dataset_path, token_lookup, create_lookup_tables):\n",
    "    \"\"\"\n",
    "    Preprocess Text Data\n",
    "    \"\"\"\n",
    "    text = load_data(dataset_path)\n",
    "    \n",
    "    # Ignore notice, since we don't use it for analysing the data\n",
    "    text = text[81:]\n",
    "\n",
    "    token_dict = token_lookup()\n",
    "    for key, token in token_dict.items():\n",
    "        text = text.replace(key, ' {} '.format(token))\n",
    "\n",
    "    text = text.lower()\n",
    "    text = text.split()\n",
    "    \n",
    "    SPECIAL_WORDS = {'PADDING': '<PAD>'}\n",
    "\n",
    "    vocab_to_int, int_to_vocab = create_lookup_tables(text + list(SPECIAL_WORDS.values()))\n",
    "    int_text = [vocab_to_int[word] for word in text]\n",
    "    pickle.dump((int_text, vocab_to_int, int_to_vocab, token_dict), open('preprocess.p', 'wb'))"
   ]
  },
  {
   "cell_type": "markdown",
   "metadata": {},
   "source": [
    "#### Pre-process all the data and save it\n",
    "\n",
    "We run the code cell below to pre-process all the data and save it to file. "
   ]
  },
  {
   "cell_type": "code",
   "execution_count": 7,
   "metadata": {
    "collapsed": true
   },
   "outputs": [],
   "source": [
    "# pre-process training data\n",
    "preprocess_and_save_data(data_dir, token_lookup, create_lookup_tables)"
   ]
  },
  {
   "cell_type": "markdown",
   "metadata": {},
   "source": [
    "#### Checkpoint\n",
    "We can load the preprocessed data that have been saved to disk."
   ]
  },
  {
   "cell_type": "code",
   "execution_count": 8,
   "metadata": {
    "collapsed": true
   },
   "outputs": [],
   "source": [
    "import os\n",
    "import pickle\n",
    "import torch\n",
    "\n",
    "def load_preprocess():\n",
    "    \"\"\"\n",
    "    Load the Preprocessed Training data and return them in batches of <batch_size> or less\n",
    "    \"\"\"\n",
    "    return pickle.load(open('preprocess.p', mode='rb'))"
   ]
  },
  {
   "cell_type": "code",
   "execution_count": 9,
   "metadata": {
    "collapsed": true
   },
   "outputs": [],
   "source": [
    "int_text, vocab_to_int, int_to_vocab, token_dict = load_preprocess()"
   ]
  },
  {
   "cell_type": "markdown",
   "metadata": {},
   "source": [
    "## 3.0. Build the Neural Network\n",
    "In this section, we will build the components necessary to build an RNN by implementing the RNN Module and forward and backpropagation functions.\n",
    "\n",
    "#### Check Access to GPU"
   ]
  },
  {
   "cell_type": "code",
   "execution_count": 10,
   "metadata": {
    "collapsed": true
   },
   "outputs": [],
   "source": [
    "import torch\n",
    "\n",
    "# Check for a GPU\n",
    "train_on_gpu = torch.cuda.is_available()\n",
    "if not train_on_gpu:\n",
    "    print('No GPU found. Please use a GPU to train your neural network.')"
   ]
  },
  {
   "cell_type": "markdown",
   "metadata": {},
   "source": [
    "### 3.1. Define Input\n",
    "Let's start with the preprocessed input data. We'll use [TensorDataset](http://pytorch.org/docs/master/data.html#torch.utils.data.TensorDataset) to provide a known format to our dataset; in combination with [DataLoader](http://pytorch.org/docs/master/data.html#torch.utils.data.DataLoader), it will handle batching, shuffling, and other dataset iteration functions."
   ]
  },
  {
   "cell_type": "code",
   "execution_count": 11,
   "metadata": {
    "collapsed": true
   },
   "outputs": [],
   "source": [
    "from torch.utils.data import TensorDataset, DataLoader\n",
    "\n",
    "\n",
    "def batch_data(words, sequence_length, batch_size):\n",
    "    \"\"\"\n",
    "    Batch the neural network data using DataLoader\n",
    "    :param words: The word ids of the TV scripts\n",
    "    :param sequence_length: The sequence length of each batch\n",
    "    :param batch_size: The size of each batch; the number of sequences in a batch\n",
    "    :return: DataLoader with batched data\n",
    "    \"\"\"\n",
    "\n",
    "    features = []\n",
    "    targets = []\n",
    "    \n",
    "    for idx in range(0, len(words)):\n",
    "        if (idx + sequence_length) < len(words):\n",
    "            feature, tensor = [], []\n",
    "            feature = words[idx:idx+sequence_length]\n",
    "            tensor = words[idx+sequence_length]\n",
    "            features.append(feature)\n",
    "            targets.append(tensor)\n",
    "    \n",
    "    features = np.asarray(features)\n",
    "    targets = np.asarray(targets)\n",
    "    \n",
    "    # Create a Tensor dataset\n",
    "    feature_tensors = TensorDataset(torch.from_numpy(features), torch.from_numpy(targets))\n",
    "    dataloader = DataLoader(feature_tensors, shuffle=True, batch_size=batch_size)\n",
    "    \n",
    "    # return a dataloader\n",
    "    return dataloader"
   ]
  },
  {
   "cell_type": "markdown",
   "metadata": {},
   "source": [
    "### 3.2. Define RNN Architecture\n",
    "To develop an RNN model, we will have to implement the following functions for the class:\n",
    " - `__init__` - The initialize function. \n",
    " - `init_hidden` - The initialization function for an LSTM/GRU hidden state\n",
    " - `forward` - Forward propagation function.\n",
    " \n",
    "The initialize function should create the layers of the neural network and save them to the class. The forward propagation function will use these layers to run forward propagation and generate an output and a hidden state.\n",
    "\n",
    "In this notebook, we use embedding and LSTM layers to build the RNN model. The architecture for this network is shown below.\n",
    "\n",
    "<img src=\"assets/network_diagram.png\" width=40%>\n",
    "\n",
    ">**First, we'll pass in words to an embedding layer.** We need an embedding layer because we have tens of thousands of words, so we will need a more efficient representation for our input data than one-hot encoded vectors. \n",
    "\n",
    ">**After input words are passed to an embedding layer, the new embeddings will be passed to LSTM cells.** The LSTM cells will add *recurrent* connections to the network and give us the ability to include information about the *sequence* of words in our data. \n",
    "\n",
    ">**Finally, the LSTM outputs will go to a output layer.** We are using a fully-connected neural network layer.\n",
    "\n",
    "**The output of this model should be the *last* batch of word scores** after a complete sequence has been processed. That is, for each input sequence of words, we only want to output the word scores for a single, most likely, next word."
   ]
  },
  {
   "cell_type": "code",
   "execution_count": 12,
   "metadata": {
    "collapsed": true
   },
   "outputs": [],
   "source": [
    "import torch.nn as nn\n",
    "\n",
    "class RNN(nn.Module):\n",
    "    \n",
    "    def __init__(self, vocab_size, output_size, embedding_dim, hidden_dim, n_layers, dropout=0.5):\n",
    "        \"\"\"\n",
    "        Initialize the PyTorch RNN Module\n",
    "        :param vocab_size: The number of input dimensions of the neural network (the size of the vocabulary)\n",
    "        :param output_size: The number of output dimensions of the neural network\n",
    "        :param embedding_dim: The size of embeddings        \n",
    "        :param hidden_dim: The size of the hidden layer outputs\n",
    "        :param dropout: dropout to add in between LSTM/GRU layers\n",
    "        \"\"\"\n",
    "        super(RNN, self).__init__()\n",
    "        \n",
    "        # set class variables\n",
    "        self.output_size = output_size\n",
    "        self.n_layers = n_layers\n",
    "        self.hidden_dim = hidden_dim\n",
    "        \n",
    "        # embedding and LSTM layers\n",
    "        self.embedding = nn.Embedding(vocab_size, embedding_dim)\n",
    "        self.lstm = nn.LSTM(embedding_dim, hidden_dim, n_layers, \n",
    "                            dropout=dropout, batch_first=True)\n",
    "        \n",
    "        # linear\n",
    "        self.fc = nn.Linear(hidden_dim, output_size)\n",
    "    \n",
    "    \n",
    "    def forward(self, nn_input, hidden):\n",
    "        \"\"\"\n",
    "        Forward propagation of the neural network\n",
    "        :param nn_input: The input to the neural network\n",
    "        :param hidden: The hidden state        \n",
    "        :return: Two Tensors, the output of the neural network and the latest hidden state\n",
    "        \"\"\"\n",
    "        batch_size = nn_input.size(0)\n",
    "\n",
    "        # embeddings and lstm_out\n",
    "        nn_input = nn_input.long()\n",
    "        embeds = self.embedding(nn_input)\n",
    "        lstm_out, hidden = self.lstm(embeds, hidden)\n",
    "    \n",
    "        # stack up lstm outputs\n",
    "        lstm_out = lstm_out.contiguous().view(-1, self.hidden_dim)\n",
    "        \n",
    "        # fully-connected layer\n",
    "        out = self.fc(lstm_out)\n",
    "        \n",
    "        # reshape to be batch_size first\n",
    "        out = out.view(batch_size, -1, self.output_size)\n",
    "        out = out[:, -1] # get last batch of labels\n",
    "        \n",
    "        # return one batch of output word scores and the hidden state\n",
    "        return out, hidden  \n",
    "    \n",
    "    \n",
    "    def init_hidden(self, batch_size):\n",
    "        '''\n",
    "        Initialize the hidden state of an LSTM/GRU\n",
    "        :param batch_size: The batch_size of the hidden state\n",
    "        :return: hidden state of dims (n_layers, batch_size, hidden_dim)\n",
    "        '''\n",
    "        weight = next(self.parameters()).data\n",
    "        \n",
    "        if (train_on_gpu):\n",
    "            hidden = (weight.new(self.n_layers, batch_size, self.hidden_dim).zero_().cuda(),\n",
    "                  weight.new(self.n_layers, batch_size, self.hidden_dim).zero_().cuda())\n",
    "        else:\n",
    "            hidden = (weight.new(self.n_layers, batch_size, self.hidden_dim).zero_(),\n",
    "                      weight.new(self.n_layers, batch_size, self.hidden_dim).zero_())\n",
    "        \n",
    "        return hidden"
   ]
  },
  {
   "cell_type": "markdown",
   "metadata": {},
   "source": [
    "### 3.3. Define Forward and Backpropagation\n",
    "\n",
    "We use the RNN class we implemented to apply forward and back propagation. This function will be called, iteratively, in the training loop. "
   ]
  },
  {
   "cell_type": "code",
   "execution_count": 13,
   "metadata": {
    "collapsed": true
   },
   "outputs": [],
   "source": [
    "def forward_back_prop(rnn, optimizer, criterion, inp, target, hidden, clip=5):\n",
    "    \"\"\"\n",
    "    Forward and backward propagation on the neural network\n",
    "    :param rnn: The PyTorch Module that holds the neural network\n",
    "    :param optimizer: The PyTorch optimizer for the neural network\n",
    "    :param criterion: The PyTorch loss function\n",
    "    :param inp: A batch of input to the neural network\n",
    "    :param target: The target output for the batch of input\n",
    "    :return: The loss and the latest hidden state Tensor\n",
    "    \"\"\"\n",
    "    \n",
    "    # move data to GPU, if available\n",
    "    if(train_on_gpu):\n",
    "        rnn.cuda()\n",
    "    \n",
    "    # Creating new variables for the hidden state, otherwise\n",
    "    # we'd backprop through the entire training history\n",
    "    h = tuple([each.data for each in hidden])\n",
    "    \n",
    "    # zero accumulated gradients\n",
    "    rnn.zero_grad()\n",
    "    \n",
    "    if(train_on_gpu):\n",
    "        inp, target = inp.cuda(), target.cuda()\n",
    "    \n",
    "    # get the output from the model\n",
    "    output, h = rnn(inp, h)\n",
    "    \n",
    "    # calculate the loss and perform backprop\n",
    "    loss = criterion(output, target)\n",
    "    loss.backward()\n",
    "    \n",
    "    # `clip_grad_norm` helps prevent the exploding gradient problem in RNNs / LSTMs.\n",
    "    nn.utils.clip_grad_norm_(rnn.parameters(), clip)\n",
    "    optimizer.step()\n",
    "\n",
    "    # return the loss over a batch and the hidden state produced by our model\n",
    "    return loss.item(), h"
   ]
  },
  {
   "cell_type": "markdown",
   "metadata": {},
   "source": [
    "### 3.4. Train Neural Network\n",
    "\n",
    "With the structure of the network complete and data ready to be fed in the neural network, it's time to train it.\n",
    "\n",
    "The training loop is implemented for in the `train_rnn` function. This function will train the network over all the batches for the number of epochs given. The model progress will be shown every number of batches. This number is set with the `show_every_n_batches` parameter. We will set this parameter along with other parameters in the next section."
   ]
  },
  {
   "cell_type": "code",
   "execution_count": 14,
   "metadata": {
    "collapsed": true
   },
   "outputs": [],
   "source": [
    "def train_rnn(rnn, batch_size, optimizer, criterion, n_epochs, show_every_n_batches=100):\n",
    "    batch_losses = []\n",
    "    \n",
    "    rnn.train()\n",
    "\n",
    "    print(\"Training for %d epoch(s)...\" % n_epochs)\n",
    "    for epoch_i in range(1, n_epochs + 1):\n",
    "        \n",
    "        # initialize hidden state\n",
    "        hidden = rnn.init_hidden(batch_size)\n",
    "        \n",
    "        for batch_i, (inputs, labels) in enumerate(train_loader, 1):\n",
    "            \n",
    "            # make sure we iterate over completely full batches, only\n",
    "            n_batches = len(train_loader.dataset)//batch_size\n",
    "            if(batch_i > n_batches):\n",
    "                break\n",
    "            \n",
    "            # forward, back prop\n",
    "            loss, hidden = forward_back_prop(rnn, optimizer, criterion, inputs, labels, hidden)          \n",
    "            # record loss\n",
    "            batch_losses.append(loss)\n",
    "\n",
    "            # printing loss stats\n",
    "            if batch_i % show_every_n_batches == 0:\n",
    "                print('Epoch: {:>4}/{:<4}  Loss: {}\\n'.format(\n",
    "                    epoch_i, n_epochs, np.average(batch_losses)))\n",
    "                batch_losses = []\n",
    "\n",
    "    # returns a trained rnn\n",
    "    return rnn"
   ]
  },
  {
   "cell_type": "markdown",
   "metadata": {},
   "source": [
    "#### Hyperparameters\n",
    "\n",
    "Set and train the neural network with the following parameters:\n",
    "- Set `sequence_length` to the length of a sequence.\n",
    "- Set `batch_size` to the batch size.\n",
    "- Set `num_epochs` to the number of epochs to train for.\n",
    "- Set `learning_rate` to the learning rate for an Adam optimizer.\n",
    "- Set `vocab_size` to the number of unique tokens in our vocabulary.\n",
    "- Set `output_size` to the desired size of the output.\n",
    "- Set `embedding_dim` to the embedding dimension; smaller than the vocab_size.\n",
    "- Set `hidden_dim` to the hidden dimension of the RNN.\n",
    "- Set `n_layers` to the number of layers/cells in the RNN.\n",
    "- Set `show_every_n_batches` to the number of batches at which the neural network should print progress."
   ]
  },
  {
   "cell_type": "code",
   "execution_count": 15,
   "metadata": {
    "collapsed": true
   },
   "outputs": [],
   "source": [
    "# Data params\n",
    "# Sequence Length\n",
    "sequence_length = 10 # of words in a sequence\n",
    "# Batch Size\n",
    "batch_size = 128\n",
    "\n",
    "# data loader\n",
    "train_loader = batch_data(int_text, sequence_length, batch_size)"
   ]
  },
  {
   "cell_type": "code",
   "execution_count": 16,
   "metadata": {
    "collapsed": true
   },
   "outputs": [],
   "source": [
    "# Training parameters\n",
    "# Number of Epochs\n",
    "num_epochs = 10\n",
    "# Learning Rate\n",
    "learning_rate = 0.001\n",
    "\n",
    "# Model parameters\n",
    "# Vocab size\n",
    "vocab_size = len(vocab_to_int)\n",
    "# Output size\n",
    "output_size = vocab_size\n",
    "# Embedding Dimension\n",
    "embedding_dim = 200\n",
    "# Hidden Dimension\n",
    "hidden_dim = 250\n",
    "# Number of RNN Layers\n",
    "n_layers = 2\n",
    "\n",
    "# Show stats for every n number of batches\n",
    "show_every_n_batches = 500"
   ]
  },
  {
   "cell_type": "markdown",
   "metadata": {},
   "source": [
    "#### Train"
   ]
  },
  {
   "cell_type": "code",
   "execution_count": 17,
   "metadata": {},
   "outputs": [
    {
     "name": "stdout",
     "output_type": "stream",
     "text": [
      "Training for 10 epoch(s)...\n",
      "Epoch:    1/10    Loss: 5.517633271217346\n",
      "\n",
      "Epoch:    1/10    Loss: 4.897500102043152\n",
      "\n",
      "Epoch:    1/10    Loss: 4.658834692001343\n",
      "\n",
      "Epoch:    1/10    Loss: 4.53312217092514\n",
      "\n",
      "Epoch:    1/10    Loss: 4.438450860977173\n",
      "\n",
      "Epoch:    1/10    Loss: 4.393903307914734\n",
      "\n",
      "Epoch:    1/10    Loss: 4.351630313873291\n",
      "\n",
      "Epoch:    1/10    Loss: 4.28318585729599\n",
      "\n",
      "Epoch:    1/10    Loss: 4.282118978977203\n",
      "\n",
      "Epoch:    1/10    Loss: 4.23600855922699\n",
      "\n",
      "Epoch:    1/10    Loss: 4.213591070175171\n",
      "\n",
      "Epoch:    1/10    Loss: 4.192781659126282\n",
      "\n",
      "Epoch:    1/10    Loss: 4.1700753741264345\n",
      "\n",
      "Epoch:    2/10    Loss: 4.082435155923645\n",
      "\n",
      "Epoch:    2/10    Loss: 3.9608580741882324\n",
      "\n",
      "Epoch:    2/10    Loss: 3.9974955320358276\n",
      "\n",
      "Epoch:    2/10    Loss: 3.9675925345420837\n",
      "\n",
      "Epoch:    2/10    Loss: 3.9525283479690554\n",
      "\n",
      "Epoch:    2/10    Loss: 3.94262863111496\n",
      "\n",
      "Epoch:    2/10    Loss: 3.9326539006233214\n",
      "\n",
      "Epoch:    2/10    Loss: 3.9325126857757566\n",
      "\n",
      "Epoch:    2/10    Loss: 3.929595118522644\n",
      "\n",
      "Epoch:    2/10    Loss: 3.9347965245246885\n",
      "\n",
      "Epoch:    2/10    Loss: 3.910812912464142\n",
      "\n",
      "Epoch:    2/10    Loss: 3.925476997375488\n",
      "\n",
      "Epoch:    2/10    Loss: 3.9142763409614565\n",
      "\n",
      "Epoch:    3/10    Loss: 3.834956069479786\n",
      "\n",
      "Epoch:    3/10    Loss: 3.744466232299805\n",
      "\n",
      "Epoch:    3/10    Loss: 3.7507899975776673\n",
      "\n",
      "Epoch:    3/10    Loss: 3.7458458609580996\n",
      "\n",
      "Epoch:    3/10    Loss: 3.7580039944648744\n",
      "\n",
      "Epoch:    3/10    Loss: 3.764255843639374\n",
      "\n",
      "Epoch:    3/10    Loss: 3.76765647983551\n",
      "\n",
      "Epoch:    3/10    Loss: 3.7480652356147766\n",
      "\n",
      "Epoch:    3/10    Loss: 3.779081953525543\n",
      "\n",
      "Epoch:    3/10    Loss: 3.758316418647766\n",
      "\n",
      "Epoch:    3/10    Loss: 3.769827454090118\n",
      "\n",
      "Epoch:    3/10    Loss: 3.78045352268219\n",
      "\n",
      "Epoch:    3/10    Loss: 3.78111097240448\n",
      "\n",
      "Epoch:    4/10    Loss: 3.688829215810518\n",
      "\n",
      "Epoch:    4/10    Loss: 3.626911067485809\n",
      "\n",
      "Epoch:    4/10    Loss: 3.6209039120674134\n",
      "\n",
      "Epoch:    4/10    Loss: 3.6216826300621032\n",
      "\n",
      "Epoch:    4/10    Loss: 3.6315935869216918\n",
      "\n",
      "Epoch:    4/10    Loss: 3.639988348007202\n",
      "\n",
      "Epoch:    4/10    Loss: 3.65744402551651\n",
      "\n",
      "Epoch:    4/10    Loss: 3.6478212270736696\n",
      "\n",
      "Epoch:    4/10    Loss: 3.665025830745697\n",
      "\n",
      "Epoch:    4/10    Loss: 3.6762223892211914\n",
      "\n",
      "Epoch:    4/10    Loss: 3.672757263183594\n",
      "\n",
      "Epoch:    4/10    Loss: 3.6802126626968383\n",
      "\n",
      "Epoch:    4/10    Loss: 3.679605929851532\n",
      "\n",
      "Epoch:    5/10    Loss: 3.613398547758136\n",
      "\n",
      "Epoch:    5/10    Loss: 3.523017894744873\n",
      "\n",
      "Epoch:    5/10    Loss: 3.524097954750061\n",
      "\n",
      "Epoch:    5/10    Loss: 3.5332646980285642\n",
      "\n",
      "Epoch:    5/10    Loss: 3.543988306045532\n",
      "\n",
      "Epoch:    5/10    Loss: 3.5696311607360838\n",
      "\n",
      "Epoch:    5/10    Loss: 3.5678547644615173\n",
      "\n",
      "Epoch:    5/10    Loss: 3.5608730325698854\n",
      "\n",
      "Epoch:    5/10    Loss: 3.5886717114448548\n",
      "\n",
      "Epoch:    5/10    Loss: 3.5826691155433656\n",
      "\n",
      "Epoch:    5/10    Loss: 3.595674072265625\n",
      "\n",
      "Epoch:    5/10    Loss: 3.5950045113563536\n",
      "\n",
      "Epoch:    5/10    Loss: 3.626445243835449\n",
      "\n",
      "Epoch:    6/10    Loss: 3.515759503509238\n",
      "\n",
      "Epoch:    6/10    Loss: 3.4612678108215333\n",
      "\n",
      "Epoch:    6/10    Loss: 3.452733491897583\n",
      "\n",
      "Epoch:    6/10    Loss: 3.476176392555237\n",
      "\n",
      "Epoch:    6/10    Loss: 3.4730284199714663\n",
      "\n",
      "Epoch:    6/10    Loss: 3.4966141819953918\n",
      "\n",
      "Epoch:    6/10    Loss: 3.4880098528862\n",
      "\n",
      "Epoch:    6/10    Loss: 3.5086729888916017\n",
      "\n",
      "Epoch:    6/10    Loss: 3.5101209731101988\n",
      "\n",
      "Epoch:    6/10    Loss: 3.513200384616852\n",
      "\n",
      "Epoch:    6/10    Loss: 3.511166527271271\n",
      "\n",
      "Epoch:    6/10    Loss: 3.545340305328369\n",
      "\n",
      "Epoch:    6/10    Loss: 3.556868831157684\n",
      "\n",
      "Epoch:    7/10    Loss: 3.4739535703747633\n",
      "\n",
      "Epoch:    7/10    Loss: 3.397635051727295\n",
      "\n",
      "Epoch:    7/10    Loss: 3.390638234615326\n",
      "\n",
      "Epoch:    7/10    Loss: 3.4007585768699644\n",
      "\n",
      "Epoch:    7/10    Loss: 3.4395203790664675\n",
      "\n",
      "Epoch:    7/10    Loss: 3.4153660259246825\n",
      "\n",
      "Epoch:    7/10    Loss: 3.4409289541244505\n",
      "\n",
      "Epoch:    7/10    Loss: 3.43300687456131\n",
      "\n",
      "Epoch:    7/10    Loss: 3.4538872117996218\n",
      "\n",
      "Epoch:    7/10    Loss: 3.4924529271125793\n",
      "\n",
      "Epoch:    7/10    Loss: 3.4929649715423583\n",
      "\n",
      "Epoch:    7/10    Loss: 3.4938889646530153\n",
      "\n",
      "Epoch:    7/10    Loss: 3.5186596274375916\n",
      "\n",
      "Epoch:    8/10    Loss: 3.402682393204932\n",
      "\n",
      "Epoch:    8/10    Loss: 3.348995289325714\n",
      "\n",
      "Epoch:    8/10    Loss: 3.360608853340149\n",
      "\n",
      "Epoch:    8/10    Loss: 3.3669637360572815\n",
      "\n",
      "Epoch:    8/10    Loss: 3.3691230607032776\n",
      "\n",
      "Epoch:    8/10    Loss: 3.3925105056762694\n",
      "\n",
      "Epoch:    8/10    Loss: 3.390491262435913\n",
      "\n",
      "Epoch:    8/10    Loss: 3.39861595249176\n",
      "\n",
      "Epoch:    8/10    Loss: 3.4182016525268555\n",
      "\n",
      "Epoch:    8/10    Loss: 3.4238922114372254\n",
      "\n",
      "Epoch:    8/10    Loss: 3.4475467710494994\n",
      "\n",
      "Epoch:    8/10    Loss: 3.453964394569397\n",
      "\n",
      "Epoch:    8/10    Loss: 3.4695194330215453\n",
      "\n",
      "Epoch:    9/10    Loss: 3.370060032981345\n",
      "\n",
      "Epoch:    9/10    Loss: 3.2992881326675416\n",
      "\n",
      "Epoch:    9/10    Loss: 3.3244405274391173\n",
      "\n",
      "Epoch:    9/10    Loss: 3.329359217643738\n",
      "\n",
      "Epoch:    9/10    Loss: 3.344775951862335\n",
      "\n",
      "Epoch:    9/10    Loss: 3.3573396792411803\n",
      "\n",
      "Epoch:    9/10    Loss: 3.358904419898987\n",
      "\n",
      "Epoch:    9/10    Loss: 3.378824363231659\n",
      "\n",
      "Epoch:    9/10    Loss: 3.370771960258484\n",
      "\n",
      "Epoch:    9/10    Loss: 3.3840534572601317\n",
      "\n",
      "Epoch:    9/10    Loss: 3.3863098607063296\n",
      "\n",
      "Epoch:    9/10    Loss: 3.4108451499938965\n",
      "\n",
      "Epoch:    9/10    Loss: 3.414126708507538\n",
      "\n",
      "Epoch:   10/10    Loss: 3.3344624539523915\n",
      "\n",
      "Epoch:   10/10    Loss: 3.26948649597168\n",
      "\n",
      "Epoch:   10/10    Loss: 3.2819625430107116\n",
      "\n",
      "Epoch:   10/10    Loss: 3.2832340497970582\n",
      "\n",
      "Epoch:   10/10    Loss: 3.3138354964256287\n",
      "\n",
      "Epoch:   10/10    Loss: 3.310824144363403\n",
      "\n",
      "Epoch:   10/10    Loss: 3.34391579246521\n",
      "\n",
      "Epoch:   10/10    Loss: 3.3231768193244933\n",
      "\n",
      "Epoch:   10/10    Loss: 3.359706037521362\n",
      "\n",
      "Epoch:   10/10    Loss: 3.3711140336990355\n",
      "\n",
      "Epoch:   10/10    Loss: 3.3588500137329103\n",
      "\n",
      "Epoch:   10/10    Loss: 3.3673633480072023\n",
      "\n",
      "Epoch:   10/10    Loss: 3.406107542037964\n",
      "\n"
     ]
    }
   ],
   "source": [
    "# create model and move to gpu if available\n",
    "rnn = RNN(vocab_size, output_size, embedding_dim, hidden_dim, n_layers, dropout=0.5)\n",
    "if train_on_gpu:\n",
    "    rnn.cuda()\n",
    "\n",
    "# defining loss and optimization functions for training\n",
    "optimizer = torch.optim.Adam(rnn.parameters(), lr=learning_rate)\n",
    "criterion = nn.CrossEntropyLoss()\n",
    "\n",
    "# training the model\n",
    "trained_rnn = train_rnn(rnn, batch_size, optimizer, criterion, num_epochs, show_every_n_batches)"
   ]
  },
  {
   "cell_type": "markdown",
   "metadata": {},
   "source": [
    "#### Save the model\n",
    "After running the above training cell, the trained model will be saved by name, `trained_rnn`."
   ]
  },
  {
   "cell_type": "code",
   "execution_count": 20,
   "metadata": {
    "collapsed": true
   },
   "outputs": [],
   "source": [
    "def save_model(filename, decoder):\n",
    "    save_filename = os.path.splitext(os.path.basename(filename))[0] + '.pt'\n",
    "    torch.save(decoder, save_filename)"
   ]
  },
  {
   "cell_type": "code",
   "execution_count": 21,
   "metadata": {},
   "outputs": [
    {
     "name": "stderr",
     "output_type": "stream",
     "text": [
      "/opt/conda/lib/python3.6/site-packages/torch/serialization.py:193: UserWarning: Couldn't retrieve source code for container of type RNN. It won't be checked for correctness upon loading.\n",
      "  \"type \" + obj.__name__ + \". It won't be checked \"\n"
     ]
    },
    {
     "name": "stdout",
     "output_type": "stream",
     "text": [
      "Model Trained and Saved\n"
     ]
    }
   ],
   "source": [
    "# saving the trained model\n",
    "save_model('./save/trained_rnn', trained_rnn)\n",
    "print('Model Trained and Saved')"
   ]
  },
  {
   "cell_type": "markdown",
   "metadata": {},
   "source": [
    "#### Checkpoint\n",
    "We can load the trained model that have been saved to disk."
   ]
  },
  {
   "cell_type": "code",
   "execution_count": 22,
   "metadata": {
    "collapsed": true
   },
   "outputs": [],
   "source": [
    "import os\n",
    "import pickle\n",
    "import torch\n",
    "\n",
    "def load_model(filename):\n",
    "    save_filename = os.path.splitext(os.path.basename(filename))[0] + '.pt'\n",
    "    return torch.load(save_filename)"
   ]
  },
  {
   "cell_type": "code",
   "execution_count": 23,
   "metadata": {
    "collapsed": true
   },
   "outputs": [],
   "source": [
    "_, vocab_to_int, int_to_vocab, token_dict = load_preprocess()\n",
    "trained_rnn = load_model('./save/trained_rnn')"
   ]
  },
  {
   "cell_type": "markdown",
   "metadata": {},
   "source": [
    "## 4.0. Generate TV Script\n",
    "With the network trained and saved, we will use it to generate a new, \"fake\" Seinfeld TV script in this section.\n",
    "\n",
    "### 4.1. Generate Text\n",
    "To generate the text, the network needs to start with a single word and repeat its predictions until it reaches a set length. We will be using the `generate` function to do this. It takes a word id to start with, `prime_id`, and generates a set length of text, `predict_len`. Also note that it uses topk sampling to introduce some randomness in choosing the most likely next word, given an output set of word scores!"
   ]
  },
  {
   "cell_type": "code",
   "execution_count": 24,
   "metadata": {
    "collapsed": true
   },
   "outputs": [],
   "source": [
    "import torch.nn.functional as F\n",
    "\n",
    "def generate(rnn, prime_id, int_to_vocab, token_dict, pad_value, predict_len=100):\n",
    "    \"\"\"\n",
    "    Generate text using the neural network\n",
    "    :param decoder: The PyTorch Module that holds the trained neural network\n",
    "    :param prime_id: The word id to start the first prediction\n",
    "    :param int_to_vocab: Dict of word id keys to word values\n",
    "    :param token_dict: Dict of puncuation tokens keys to puncuation values\n",
    "    :param pad_value: The value used to pad a sequence\n",
    "    :param predict_len: The length of text to generate\n",
    "    :return: The generated text\n",
    "    \"\"\"\n",
    "    rnn.eval()\n",
    "    \n",
    "    # create a sequence (batch_size=1) with the prime_id\n",
    "    current_seq = np.full((1, sequence_length), pad_value)\n",
    "    current_seq[-1][-1] = prime_id\n",
    "    predicted = [int_to_vocab[prime_id]]\n",
    "    \n",
    "    for _ in range(predict_len):\n",
    "        if train_on_gpu:\n",
    "            current_seq = torch.LongTensor(current_seq).cuda()\n",
    "        else:\n",
    "            current_seq = torch.LongTensor(current_seq)\n",
    "        \n",
    "        # initialize the hidden state\n",
    "        hidden = rnn.init_hidden(current_seq.size(0))\n",
    "        \n",
    "        # get the output of the rnn\n",
    "        output, _ = rnn(current_seq, hidden)\n",
    "        \n",
    "        # get the next word probabilities\n",
    "        p = F.softmax(output, dim=1).data\n",
    "        if(train_on_gpu):\n",
    "            p = p.cpu() # move to cpu\n",
    "         \n",
    "        # use top_k sampling to get the index of the next word\n",
    "        top_k = 5\n",
    "        p, top_i = p.topk(top_k)\n",
    "        top_i = top_i.numpy().squeeze()\n",
    "        \n",
    "        # select the likely next word index with some element of randomness\n",
    "        p = p.numpy().squeeze()\n",
    "        word_i = np.random.choice(top_i, p=p/p.sum())\n",
    "        \n",
    "        # retrieve that word from the dictionary\n",
    "        word = int_to_vocab[word_i]\n",
    "        predicted.append(word)     \n",
    "        \n",
    "        if(train_on_gpu):\n",
    "            current_seq = current_seq.cpu() # move to cpu\n",
    "        # the generated word becomes the next \"current sequence\" and the cycle can continue\n",
    "        if train_on_gpu:\n",
    "            current_seq = current_seq.cpu()\n",
    "        current_seq = np.roll(current_seq, -1, 1)\n",
    "        current_seq[-1][-1] = word_i\n",
    "    \n",
    "    gen_sentences = ' '.join(predicted)\n",
    "    \n",
    "    # Replace punctuation tokens\n",
    "    for key, token in token_dict.items():\n",
    "        ending = ' ' if key in ['\\n', '(', '\"'] else ''\n",
    "        gen_sentences = gen_sentences.replace(' ' + token.lower(), key)\n",
    "    gen_sentences = gen_sentences.replace('\\n ', '\\n')\n",
    "    gen_sentences = gen_sentences.replace('( ', '(')\n",
    "    \n",
    "    # return all the sentences\n",
    "    return gen_sentences"
   ]
  },
  {
   "cell_type": "markdown",
   "metadata": {},
   "source": [
    "### 4.2. Generate a New Script\n",
    "It's time to generate the text. Set `gen_length` to the length of TV script we want to generate and set `prime_word` to one of the following to start the prediction:\n",
    "- \"jerry\"\n",
    "- \"elaine\"\n",
    "- \"george\"\n",
    "- \"kramer\"\n",
    "\n",
    "We can set the prime word to _any word_ in our dictionary, but it's best to start with a name for generating a TV script."
   ]
  },
  {
   "cell_type": "code",
   "execution_count": 25,
   "metadata": {},
   "outputs": [
    {
     "name": "stderr",
     "output_type": "stream",
     "text": [
      "/opt/conda/lib/python3.6/site-packages/ipykernel_launcher.py:42: UserWarning: RNN module weights are not part of single contiguous chunk of memory. This means they need to be compacted at every call, possibly greatly increasing memory usage. To compact weights again call flatten_parameters().\n"
     ]
    },
    {
     "name": "stdout",
     "output_type": "stream",
     "text": [
      "jerry: i was a little curious to see him in the apartment.\n",
      "\n",
      "george: oh, yeah, that's right.\n",
      "\n",
      "jerry:(to george) you know, i'm not going back in this place.\n",
      "\n",
      "jerry: i was not in the neighborhood and the other night, i think i was a little eccentric and i have a little fun about that. i'm gonna be a big fan for this, but i don't want to see him anymore.\n",
      "\n",
      "jerry:(to george) i was wondering you were going to have the same thing.\n",
      "\n",
      "george: i don't know.\n",
      "\n",
      "elaine: what? what do you think, you can see her about the car?\n",
      "\n",
      "elaine: no, i can't.\n",
      "\n",
      "elaine: oh, no, i'm sorry. i got the one...\n",
      "\n",
      "jerry:(to jerry) what did she say about the subject for?\n",
      "\n",
      "jerry: i don't want to hear this.\n",
      "\n",
      "elaine: what?\n",
      "\n",
      "kramer: yeah, yeah, yeah, but it's the damnedest thing i ever said to you.\n",
      "\n",
      "george: you know, i'm going to be the only person who sold it.\n",
      "\n",
      "elaine: oh, no, i don't think so.\n",
      "\n",
      "kramer:(to the phone) oh, come on, you got to do me a favour, and i'm just going to do something like this.\n",
      "\n",
      "jerry: i can't believe you would have to tell you, it's just the last time you know i was gonna be there.\n",
      "\n",
      "jerry: i think you were going to the library.\n",
      "\n",
      "jerry: i think it's a good idea.\n",
      "\n",
      "jerry: what do you think, i don't know.\n",
      "\n",
      "elaine: well, i'm sorry. i just wanted to talk to you.\n",
      "\n",
      "george: what?\n",
      "\n",
      "george: what about this?\n",
      "\n",
      "helen: i'm sorry.\n",
      "\n",
      "jerry: you know, i think i can see that.\n",
      "\n",
      "george: i don't know...\n",
      "\n",
      "jerry: i don't know.\n",
      "\n",
      "jerry: i can't believe it was a\n"
     ]
    }
   ],
   "source": [
    "# run the cell multiple times to get different results\n",
    "gen_length = 400 # modify the length\n",
    "prime_word = 'jerry' # name for starting the script\n",
    "\n",
    "SPECIAL_WORDS = {'PADDING': '<PAD>'}\n",
    "pad_word = SPECIAL_WORDS['PADDING']\n",
    "generated_script = generate(trained_rnn, vocab_to_int[prime_word + ':'], int_to_vocab, token_dict, vocab_to_int[pad_word], gen_length)\n",
    "print(generated_script)"
   ]
  },
  {
   "cell_type": "markdown",
   "metadata": {},
   "source": [
    "#### Save our favorite scripts\n",
    "\n",
    "Once we have a script that we like (or find interesting), save it to a text file!"
   ]
  },
  {
   "cell_type": "code",
   "execution_count": 26,
   "metadata": {
    "collapsed": true
   },
   "outputs": [],
   "source": [
    "# save script to a text file\n",
    "f =  open(\"generated_script_1.txt\",\"w\")\n",
    "f.write(generated_script)\n",
    "f.close()"
   ]
  },
  {
   "cell_type": "code",
   "execution_count": null,
   "metadata": {
    "collapsed": true
   },
   "outputs": [],
   "source": []
  }
 ],
 "metadata": {
  "kernelspec": {
   "display_name": "Python 3",
   "language": "python",
   "name": "python3"
  },
  "language_info": {
   "codemirror_mode": {
    "name": "ipython",
    "version": 3
   },
   "file_extension": ".py",
   "mimetype": "text/x-python",
   "name": "python",
   "nbconvert_exporter": "python",
   "pygments_lexer": "ipython3",
   "version": "3.6.3"
  },
  "widgets": {
   "state": {},
   "version": "1.1.2"
  }
 },
 "nbformat": 4,
 "nbformat_minor": 1
}
